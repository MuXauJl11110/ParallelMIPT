{
 "cells": [
  {
   "cell_type": "code",
   "execution_count": 1,
   "metadata": {},
   "outputs": [],
   "source": [
    "import matplotlib.pyplot as plt\n",
    "import pandas as pd\n",
    "import subprocess"
   ]
  },
  {
   "cell_type": "code",
   "execution_count": 2,
   "metadata": {},
   "outputs": [],
   "source": [
    "def make_output(source_file, output_file, num_of_processes):\n",
    "    if subprocess.call([f\"truncate -s 0 {output_file}\"], shell=True):\n",
    "        print(\"Something went wrong\") \n",
    "    for i in range(num_of_processes):\n",
    "        if subprocess.call([\"gcc\", \"-fopenmp\", source_file + \".c\", \"-lm\"]) == 0:\n",
    "            subprocess.call([f\"OMP_NUM_THREADS={i+1} ./a.out {epsilon} >> {output_file}\"], shell=True)\n",
    "        else:\n",
    "            print(\"Compilation errors\")"
   ]
  },
  {
   "cell_type": "code",
   "execution_count": 3,
   "metadata": {},
   "outputs": [],
   "source": [
    "def plot(output_file):\n",
    "    df = pd.read_csv(output_file, header=None, delimiter = \"\\t\", names=(['Time, sec']))\n",
    "    df['Acceleration'] = df['Time, sec'][0] / df['Time, sec']\n",
    "    df['Processes'] = range(1, 9)\n",
    "    plt.figure(figsize=(14, 10))\n",
    "    plt.xlabel('Processes', fontsize=20)\n",
    "    plt.ylabel('Acceleration', fontsize=20)\n",
    "    plt.grid(True)\n",
    "    plt.title('', fontsize=20)\n",
    "    plt.plot(df['Processes'], df['Acceleration'], 'ob-', label=f'Acceleration')\n",
    "    plt.legend(fontsize=20, loc='best')\n",
    "    plt.savefig(f'Acceleration.jpg')"
   ]
  },
  {
   "cell_type": "code",
   "execution_count": null,
   "metadata": {},
   "outputs": [],
   "source": [
    "source_file = \"test\"\n",
    "output_file = \"result\"\n",
    "epsilon = 0.00001\n",
    "num_of_processes = 8\n",
    "make_output(source_file, output_file, num_of_processes)\n",
    "plot(output_file)"
   ]
  },
  {
   "cell_type": "code",
   "execution_count": null,
   "metadata": {},
   "outputs": [],
   "source": []
  }
 ],
 "metadata": {
  "kernelspec": {
   "display_name": "Python 3",
   "language": "python",
   "name": "python3"
  },
  "language_info": {
   "codemirror_mode": {
    "name": "ipython",
    "version": 3
   },
   "file_extension": ".py",
   "mimetype": "text/x-python",
   "name": "python",
   "nbconvert_exporter": "python",
   "pygments_lexer": "ipython3",
   "version": "3.8.5"
  }
 },
 "nbformat": 4,
 "nbformat_minor": 4
}
